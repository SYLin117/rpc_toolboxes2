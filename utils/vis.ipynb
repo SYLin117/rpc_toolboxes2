{
 "cells": [
  {
   "cell_type": "code",
   "execution_count": 1,
   "outputs": [],
   "source": [
    "# ======== 觀察資料bounding box顯示 使用 =========\n",
    "import os\n",
    "import sys\n",
    "\n",
    "#if \"/opt/ros/kinetic/lib/python2.7/dist-packages\" in sys.path:\n",
    "#   sys.path.remove(\"/opt/ros/kinetic/lib/python2.7/dist-packages\")\n",
    "import cv2\n",
    "import numpy as np\n",
    "from skimage import io\n",
    "import matplotlib\n",
    "import matplotlib.pyplot as plt\n",
    "from matplotlib import patches, lines\n",
    "from matplotlib.patches import Polygon, Rectangle\n",
    "from matplotlib.collections import PatchCollection\n",
    "%matplotlib inline\n",
    "\n",
    "from pycocotools.coco import COCO\n",
    "#matplotlib.use('TkAgg')"
   ],
   "metadata": {
    "collapsed": false,
    "pycharm": {
     "name": "#%%\n"
    }
   }
  },
  {
   "cell_type": "code",
   "execution_count": 2,
   "outputs": [],
   "source": [
    "_COLORS = np.random.rand(201, 3)"
   ],
   "metadata": {
    "collapsed": false,
    "pycharm": {
     "name": "#%%\n"
    }
   }
  },
  {
   "cell_type": "code",
   "execution_count": 3,
   "outputs": [
    {
     "name": "stdout",
     "output_type": "stream",
     "text": [
      "loading annotations into memory...\n",
      "Done (t=1.30s)\n",
      "creating index...\n",
      "index created!\n"
     ]
    }
   ],
   "source": [
    "# annfile = r'/media/ian/WD/PythonProject/rpc_toolboxes/synthesize_100_train.json'\n",
    "# imgroot = r'/media/ian/WD/PythonProject/rpc_toolboxes/synthesize_100_train_shadow'\n",
    "annfile = r\"E:\\datasets\\rpc\\val_15000_15000.json\"\n",
    "imgroot = r\"E:\\datasets\\rpc\\val_15000_15000\"\n",
    "\n",
    "coco = COCO(annfile)"
   ],
   "metadata": {
    "collapsed": false,
    "pycharm": {
     "name": "#%%\n"
    }
   }
  },
  {
   "cell_type": "code",
   "execution_count": 5,
   "outputs": [
    {
     "ename": "KeyboardInterrupt",
     "evalue": "",
     "output_type": "error",
     "traceback": [
      "\u001B[1;31m---------------------------------------------------------------------------\u001B[0m",
      "\u001B[1;31mKeyboardInterrupt\u001B[0m                         Traceback (most recent call last)",
      "Input \u001B[1;32mIn [5]\u001B[0m, in \u001B[0;36m<module>\u001B[1;34m\u001B[0m\n\u001B[0;32m      8\u001B[0m img_anns \u001B[38;5;241m=\u001B[39m coco\u001B[38;5;241m.\u001B[39mloadAnns(img_annIds)\n\u001B[0;32m     10\u001B[0m image \u001B[38;5;241m=\u001B[39m io\u001B[38;5;241m.\u001B[39mimread(os\u001B[38;5;241m.\u001B[39mpath\u001B[38;5;241m.\u001B[39mjoin(imgroot, img[\u001B[38;5;124m'\u001B[39m\u001B[38;5;124mfile_name\u001B[39m\u001B[38;5;124m'\u001B[39m]))\n\u001B[1;32m---> 11\u001B[0m \u001B[38;5;28;01mfor\u001B[39;00m i \u001B[38;5;129;01min\u001B[39;00m \u001B[38;5;28;43mrange\u001B[39;49m(\u001B[38;5;28mlen\u001B[39m(img_annIds)):\n\u001B[0;32m     12\u001B[0m     cls_id \u001B[38;5;241m=\u001B[39m \u001B[38;5;28mint\u001B[39m(img_anns[i\u001B[38;5;241m-\u001B[39m\u001B[38;5;241m1\u001B[39m][\u001B[38;5;124m'\u001B[39m\u001B[38;5;124mcategory_id\u001B[39m\u001B[38;5;124m'\u001B[39m])\n\u001B[0;32m     13\u001B[0m     x, y, w, h \u001B[38;5;241m=\u001B[39m img_anns[i\u001B[38;5;241m-\u001B[39m\u001B[38;5;241m1\u001B[39m][\u001B[38;5;124m'\u001B[39m\u001B[38;5;124mbbox\u001B[39m\u001B[38;5;124m'\u001B[39m]  \u001B[38;5;66;03m# 读取边框\u001B[39;00m\n",
      "Input \u001B[1;32mIn [5]\u001B[0m, in \u001B[0;36m<module>\u001B[1;34m\u001B[0m\n\u001B[0;32m      8\u001B[0m img_anns \u001B[38;5;241m=\u001B[39m coco\u001B[38;5;241m.\u001B[39mloadAnns(img_annIds)\n\u001B[0;32m     10\u001B[0m image \u001B[38;5;241m=\u001B[39m io\u001B[38;5;241m.\u001B[39mimread(os\u001B[38;5;241m.\u001B[39mpath\u001B[38;5;241m.\u001B[39mjoin(imgroot, img[\u001B[38;5;124m'\u001B[39m\u001B[38;5;124mfile_name\u001B[39m\u001B[38;5;124m'\u001B[39m]))\n\u001B[1;32m---> 11\u001B[0m \u001B[38;5;28;01mfor\u001B[39;00m i \u001B[38;5;129;01min\u001B[39;00m \u001B[38;5;28;43mrange\u001B[39;49m(\u001B[38;5;28mlen\u001B[39m(img_annIds)):\n\u001B[0;32m     12\u001B[0m     cls_id \u001B[38;5;241m=\u001B[39m \u001B[38;5;28mint\u001B[39m(img_anns[i\u001B[38;5;241m-\u001B[39m\u001B[38;5;241m1\u001B[39m][\u001B[38;5;124m'\u001B[39m\u001B[38;5;124mcategory_id\u001B[39m\u001B[38;5;124m'\u001B[39m])\n\u001B[0;32m     13\u001B[0m     x, y, w, h \u001B[38;5;241m=\u001B[39m img_anns[i\u001B[38;5;241m-\u001B[39m\u001B[38;5;241m1\u001B[39m][\u001B[38;5;124m'\u001B[39m\u001B[38;5;124mbbox\u001B[39m\u001B[38;5;124m'\u001B[39m]  \u001B[38;5;66;03m# 读取边框\u001B[39;00m\n",
      "File \u001B[1;32m_pydevd_bundle\\pydevd_cython_win32_38_64.pyx:1179\u001B[0m, in \u001B[0;36m_pydevd_bundle.pydevd_cython_win32_38_64.SafeCallWrapper.__call__\u001B[1;34m()\u001B[0m\n",
      "File \u001B[1;32m_pydevd_bundle\\pydevd_cython_win32_38_64.pyx:620\u001B[0m, in \u001B[0;36m_pydevd_bundle.pydevd_cython_win32_38_64.PyDBFrame.trace_dispatch\u001B[1;34m()\u001B[0m\n",
      "File \u001B[1;32m_pydevd_bundle\\pydevd_cython_win32_38_64.pyx:929\u001B[0m, in \u001B[0;36m_pydevd_bundle.pydevd_cython_win32_38_64.PyDBFrame.trace_dispatch\u001B[1;34m()\u001B[0m\n",
      "File \u001B[1;32m_pydevd_bundle\\pydevd_cython_win32_38_64.pyx:920\u001B[0m, in \u001B[0;36m_pydevd_bundle.pydevd_cython_win32_38_64.PyDBFrame.trace_dispatch\u001B[1;34m()\u001B[0m\n",
      "File \u001B[1;32m_pydevd_bundle\\pydevd_cython_win32_38_64.pyx:317\u001B[0m, in \u001B[0;36m_pydevd_bundle.pydevd_cython_win32_38_64.PyDBFrame.do_wait_suspend\u001B[1;34m()\u001B[0m\n",
      "File \u001B[1;32mC:\\Program Files\\JetBrains\\PyCharm 2022.1.2\\plugins\\python\\helpers\\pydev\\pydevd.py:1155\u001B[0m, in \u001B[0;36mPyDB.do_wait_suspend\u001B[1;34m(self, thread, frame, event, arg, send_suspend_message, is_unhandled_exception)\u001B[0m\n\u001B[0;32m   1152\u001B[0m         from_this_thread\u001B[38;5;241m.\u001B[39mappend(frame_id)\n\u001B[0;32m   1154\u001B[0m \u001B[38;5;28;01mwith\u001B[39;00m \u001B[38;5;28mself\u001B[39m\u001B[38;5;241m.\u001B[39m_threads_suspended_single_notification\u001B[38;5;241m.\u001B[39mnotify_thread_suspended(thread_id, stop_reason):\n\u001B[1;32m-> 1155\u001B[0m     \u001B[38;5;28;43mself\u001B[39;49m\u001B[38;5;241;43m.\u001B[39;49m\u001B[43m_do_wait_suspend\u001B[49m\u001B[43m(\u001B[49m\u001B[43mthread\u001B[49m\u001B[43m,\u001B[49m\u001B[43m \u001B[49m\u001B[43mframe\u001B[49m\u001B[43m,\u001B[49m\u001B[43m \u001B[49m\u001B[43mevent\u001B[49m\u001B[43m,\u001B[49m\u001B[43m \u001B[49m\u001B[43marg\u001B[49m\u001B[43m,\u001B[49m\u001B[43m \u001B[49m\u001B[43msuspend_type\u001B[49m\u001B[43m,\u001B[49m\u001B[43m \u001B[49m\u001B[43mfrom_this_thread\u001B[49m\u001B[43m)\u001B[49m\n",
      "File \u001B[1;32mC:\\Program Files\\JetBrains\\PyCharm 2022.1.2\\plugins\\python\\helpers\\pydev\\pydevd.py:1170\u001B[0m, in \u001B[0;36mPyDB._do_wait_suspend\u001B[1;34m(self, thread, frame, event, arg, suspend_type, from_this_thread)\u001B[0m\n\u001B[0;32m   1167\u001B[0m             \u001B[38;5;28mself\u001B[39m\u001B[38;5;241m.\u001B[39m_call_mpl_hook()\n\u001B[0;32m   1169\u001B[0m         \u001B[38;5;28mself\u001B[39m\u001B[38;5;241m.\u001B[39mprocess_internal_commands()\n\u001B[1;32m-> 1170\u001B[0m         \u001B[43mtime\u001B[49m\u001B[38;5;241;43m.\u001B[39;49m\u001B[43msleep\u001B[49m\u001B[43m(\u001B[49m\u001B[38;5;241;43m0.01\u001B[39;49m\u001B[43m)\u001B[49m\n\u001B[0;32m   1172\u001B[0m \u001B[38;5;28mself\u001B[39m\u001B[38;5;241m.\u001B[39mcancel_async_evaluation(get_current_thread_id(thread), \u001B[38;5;28mstr\u001B[39m(\u001B[38;5;28mid\u001B[39m(frame)))\n\u001B[0;32m   1174\u001B[0m \u001B[38;5;66;03m# process any stepping instructions\u001B[39;00m\n",
      "\u001B[1;31mKeyboardInterrupt\u001B[0m: "
     ]
    }
   ],
   "source": [
    "cat_ids = coco.getCatIds()\n",
    "cats = coco.loadCats(cat_ids)\n",
    "cat_names = [cat[\"name\"] for cat in cats]\n",
    "\n",
    "imgids = coco.getImgIds()\n",
    "img = coco.loadImgs(imgids[np.random.randint(0, len(imgids))])[0]\n",
    "img_annIds = coco.getAnnIds(imgIds=img['id'], iscrowd=None) # 读取这张图片的所有seg_id\n",
    "img_anns = coco.loadAnns(img_annIds)\n",
    "\n",
    "image = io.imread(os.path.join(imgroot, img['file_name']))\n",
    "for i in range(len(img_annIds)):\n",
    "    cls_id = int(img_anns[i-1]['category_id'])\n",
    "    x, y, w, h = img_anns[i-1]['bbox']  # 读取边框\n",
    "\n",
    "    color = (_COLORS[cls_id] * 255).astype(np.uint8).tolist()\n",
    "    text = '{}'.format(cat_names[cls_id-1])\n",
    "    txt_color = (0, 0, 0) if np.mean(_COLORS[cls_id]) > 0.5 else (255, 255, 255)\n",
    "    font = cv2.FONT_HERSHEY_SIMPLEX\n",
    "    txt_bk_color = (_COLORS[cls_id] * 255 * 0.7).astype(np.uint8).tolist()\n",
    "    txt_size = cv2.getTextSize(text, font, 0.7, 1)[0]\n",
    "\n",
    "\n",
    "    image = cv2.rectangle(image, (int(x), int(y)), (int(x + w), int(y + h)), color, 2)\n",
    "    # text\n",
    "    image = cv2.rectangle(\n",
    "        image,\n",
    "        (x, y + 1),\n",
    "        (x + txt_size[0] + 1, y + int(1.5 * txt_size[1])),\n",
    "        txt_bk_color,\n",
    "        -1\n",
    "    )\n",
    "    image = cv2.putText(image, text, (x, y + txt_size[1]), font, 0.5, txt_color, thickness=1)\n",
    "plt.rcParams['figure.figsize'] = (15.0, 15.0)\n",
    "plt.imshow(image)\n",
    "# coco.showAnns(img_anns)\n",
    "plt.show()"
   ],
   "metadata": {
    "collapsed": false,
    "pycharm": {
     "name": "#%%\n"
    }
   }
  },
  {
   "cell_type": "code",
   "execution_count": null,
   "outputs": [],
   "source": [],
   "metadata": {
    "collapsed": false,
    "pycharm": {
     "name": "#%%\n"
    }
   }
  }
 ],
 "metadata": {
  "kernelspec": {
   "display_name": "Python 3",
   "language": "python",
   "name": "python3"
  },
  "language_info": {
   "codemirror_mode": {
    "name": "ipython",
    "version": 2
   },
   "file_extension": ".py",
   "mimetype": "text/x-python",
   "name": "python",
   "nbconvert_exporter": "python",
   "pygments_lexer": "ipython2",
   "version": "2.7.6"
  }
 },
 "nbformat": 4,
 "nbformat_minor": 0
}